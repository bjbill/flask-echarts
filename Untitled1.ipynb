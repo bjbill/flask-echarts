{
 "cells": [
  {
   "cell_type": "markdown",
   "metadata": {},
   "source": [
    "#  networkx 练习"
   ]
  },
  {
   "cell_type": "code",
   "execution_count": 2,
   "metadata": {},
   "outputs": [],
   "source": [
    "%matplotlib inline"
   ]
  },
  {
   "cell_type": "code",
   "execution_count": 7,
   "metadata": {},
   "outputs": [
    {
     "data": {
      "text/plain": [
       "[<matplotlib.lines.Line2D at 0x75d7fb0>]"
      ]
     },
     "execution_count": 7,
     "metadata": {},
     "output_type": "execute_result"
    },
    {
     "data": {
      "image/png": "[encoded data removed]",
      "text/plain": [
       "<matplotlib.figure.Figure at 0x659cc90>"
      ]
     },
     "metadata": {},
     "output_type": "display_data"
    }
   ],
   "source": [
    "import matplotlib.pyplot as plt\n",
    "import numpy as np\n",
    "\n",
    "x = np.arange(20)\n",
    "y = x**2\n",
    "\n",
    "plt.plot(x, y)"
   ]
  },
  {
   "cell_type": "code",
   "execution_count": 8,
   "metadata": {},
   "outputs": [
    {
     "data": {
      "text/plain": [
       "{'ALLUSERSPROFILE': 'C:\\\\ProgramData',\n",
       " 'APPDATA': 'C:\\\\Users\\\\bill\\\\AppData\\\\Roaming',\n",
       " 'ASL.LOG': 'Destination=file',\n",
       " 'CLICOLOR': '1',\n",
       " 'COMMANDER_DRIVE': 'C:',\n",
       " 'COMMANDER_EXE': 'C:\\\\totalcmd\\\\TOTALCMD.EXE',\n",
       " 'COMMANDER_INI': 'C:\\\\totalcmd\\\\wincmd.ini',\n",
       " 'COMMANDER_INSTANCE': '2',\n",
       " 'COMMANDER_PATH': 'C:\\\\totalcmd',\n",
       " 'COMMONPROGRAMFILES': 'C:\\\\Program Files\\\\Common Files',\n",
       " 'COMPUTERNAME': 'BILL',\n",
       " 'COMSPEC': 'C:\\\\Windows\\\\system32\\\\cmd.exe',\n",
       " 'FP_NO_HOST_CHECK': 'NO',\n",
       " 'GIT_PAGER': 'cat',\n",
       " 'HOMEDRIVE': 'C:',\n",
       " 'HOMEPATH': '\\\\Users\\\\bill',\n",
       " 'IPY_INTERRUPT_EVENT': '648',\n",
       " 'JAVA_HOME': 'g:\\\\java\\\\jdk1.7.0_80\\\\',\n",
       " 'JPY_INTERRUPT_EVENT': '648',\n",
       " 'JPY_PARENT_PID': '768',\n",
       " 'LOCALAPPDATA': 'C:\\\\Users\\\\bill\\\\AppData\\\\Local',\n",
       " 'LOGONSERVER': '\\\\\\\\BILL',\n",
       " 'MPLBACKEND': 'module://ipykernel.pylab.backend_inline',\n",
       " 'NUMBER_OF_PROCESSORS': '2',\n",
       " 'OS': 'Windows_NT',\n",
       " 'PAGER': 'cat',\n",
       " 'PATH': 'g:\\\\java\\\\jdk1.7.0_80\\\\bin\\\\;G:\\\\python3.6.4-win32\\\\Scripts\\\\;G:\\\\python3.6.4-win32\\\\;C:\\\\Windows\\\\system32;C:\\\\Windows;C:\\\\Windows\\\\System32\\\\Wbem;C:\\\\Windows\\\\System32\\\\WindowsPowerShell\\\\v1.0\\\\;C:\\\\Program Files\\\\TortoiseSVN\\\\bin;C:\\\\Program Files\\\\MySQL\\\\MySQL Utilities 1.6\\\\;g:\\\\mysql server 5.7\\\\bin\\\\;g:\\\\mysql server 5.7\\\\;G:\\\\Git\\\\cmd;G:\\\\node-v8.9.4-win-x86\\\\;g:\\\\nodejs\\\\node_gobal\\\\;g:\\\\python3.6.4-win32\\\\lib\\\\site-packages\\\\numpy\\\\.libs',\n",
       " 'PATHEXT': '.COM;.EXE;.BAT;.CMD;.VBS;.VBE;.JS;.JSE;.WSF;.WSH;.MSC;.PY;.PYW',\n",
       " 'PROCESSOR_ARCHITECTURE': 'x86',\n",
       " 'PROCESSOR_IDENTIFIER': 'x86 Family 6 Model 70 Stepping 1, GenuineIntel',\n",
       " 'PROCESSOR_LEVEL': '6',\n",
       " 'PROCESSOR_REVISION': '4601',\n",
       " 'PROGRAMDATA': 'C:\\\\ProgramData',\n",
       " 'PROGRAMFILES': 'C:\\\\Program Files',\n",
       " 'PROMPT': '$P$G',\n",
       " 'PSMODULEPATH': 'C:\\\\Windows\\\\system32\\\\WindowsPowerShell\\\\v1.0\\\\Modules\\\\',\n",
       " 'PUBLIC': 'C:\\\\Users\\\\Public',\n",
       " 'SESSIONNAME': 'Console',\n",
       " 'SYSTEMDRIVE': 'C:',\n",
       " 'SYSTEMROOT': 'C:\\\\Windows',\n",
       " 'TEMP': 'C:\\\\Users\\\\bill\\\\AppData\\\\Local\\\\Temp',\n",
       " 'TERM': 'xterm-color',\n",
       " 'TMP': 'C:\\\\Users\\\\bill\\\\AppData\\\\Local\\\\Temp',\n",
       " 'USERDOMAIN': 'BILL',\n",
       " 'USERNAME': 'bill',\n",
       " 'USERPROFILE': 'C:\\\\Users\\\\bill',\n",
       " 'WINDIR': 'C:\\\\Windows',\n",
       " 'WINDOWS_TRACING_FLAGS': '3',\n",
       " 'WINDOWS_TRACING_LOGFILE': 'C:\\\\BVTBin\\\\Tests\\\\installpackage\\\\csilogfile.log'}"
      ]
     },
     "execution_count": 8,
     "metadata": {},
     "output_type": "execute_result"
    }
   ],
   "source": [
    "% env"
   ]
  },
  {
   "cell_type": "code",
   "execution_count": 9,
   "metadata": {},
   "outputs": [
    {
     "name": "stderr",
     "output_type": "stream",
     "text": [
      "ERROR:root:File `'nxtest.py`.py'` not found.\n"
     ]
    }
   ],
   "source": [
    "%run nxtest.py`"
   ]
  },
  {
   "cell_type": "code",
   "execution_count": 10,
   "metadata": {},
   "outputs": [
    {
     "data": {
      "text/plain": [
       "'g:\\\\flask-echarts'"
      ]
     },
     "execution_count": 10,
     "metadata": {},
     "output_type": "execute_result"
    }
   ],
   "source": [
    "pwd\n"
   ]
  },
  {
   "cell_type": "markdown",
   "metadata": {},
   "source": [
    "由于 jupyter 安装在python 3.6.4 的目录下，没有在flaskdev的 VENV下安装，因此，即使flaskdev的VENV继承的python的lib，在VENV下启动jupyter也不能使用在VENV下安装的lib库，比如pyecharts; \n",
    "但是，在pycharm中flask-echarts项目下，启动jupyter notebook 就可以运行下面的程序。有点不同。"
   ]
  },
  {
   "cell_type": "code",
   "execution_count": 1,
   "metadata": {},
   "outputs": [
    {
     "name": "stdout",
     "output_type": "stream",
     "text": [
      "{'directed': False, 'multigraph': False, 'graph': {}, 'nodes': [{'name': 'Gateway 1', 'id': 'G1'}, {'name': 'Node 2', 'id': 'N2'}, {'name': 'Node 3', 'id': 'N3'}, {'id': 'N4'}, {'id': 'N5'}, {'id': 'N6'}, {'id': 'N7'}], 'links': [{'source': 'G1', 'target': 'N2'}, {'source': 'G1', 'target': 'N3'}, {'source': 'G1', 'target': 'N4'}, {'source': 'N2', 'target': 'N5'}, {'source': 'N2', 'target': 'N6'}, {'source': 'N5', 'target': 'N7'}]}\n"
     ]
    }
   ],
   "source": [
    "%run nxtest.py"
   ]
  },
  {
   "cell_type": "code",
   "execution_count": 3,
   "metadata": {},
   "outputs": [
    {
     "name": "stdout",
     "output_type": "stream",
     "text": [
      "['a', 'b', 'c', 'd']\n[('a', 'b'), ('a', 'c'), ('c', 'd')]\na's pred  {}\nb's pred  {'a': {}}\nc's pred  {'a': {}}\nd's pred  {'c': {}}\na's succ  {'b': {}, 'c': {}}\nb's succ  {}\nc's succ  {'d': {}}\nd's succ  {}\n"
     ]
    },
    {
     "data": {
      "image/png": "[encoded data removed]",
      "text/plain": [
       "<matplotlib.figure.Figure at 0x694dd30>"
      ]
     },
     "metadata": {},
     "output_type": "display_data"
    }
   ],
   "source": [
    "#-*- coding:utf8 -*-\n",
    "\n",
    "import networkx as nx\n",
    "import matplotlib.pyplot as plt\n",
    "\n",
    "G = nx.DiGraph()\n",
    "\n",
    "\n",
    "road_nodes = {'a':{'id':1}, 'b':{'id':1}, 'c':{'id':3}}\n",
    "road_edges = [('a', 'b'), ('a', 'c'), ('c', 'd')]\n",
    "\n",
    "G.add_nodes_from(road_nodes.items())\n",
    "G.add_edges_from(road_edges)\n",
    "\n",
    "print(G.nodes())\n",
    "print(G.edges())\n",
    "\n",
    "print(\"a's pred \", G.pred['a'])\n",
    "print(\"b's pred \", G.pred['b'])\n",
    "print( \"c's pred \", G.pred['c'])\n",
    "print( \"d's pred \", G.pred['d'])\n",
    "\n",
    "print( \"a's succ \", G.succ['a'])\n",
    "print( \"b's succ \", G.succ['b'])\n",
    "print( \"c's succ \", G.succ['c'])\n",
    "print( \"d's succ \", G.succ['d'])\n",
    "\n",
    "nx.draw(G)\n",
    "plt.savefig(\"wuxiangtu.png\")\n",
    "plt.draw()"
   ]
  },
  {
   "cell_type": "code",
   "execution_count": null,
   "metadata": {},
   "outputs": [],
   "source": []
  }
 ],
 "metadata": {
  "kernelspec": {
   "display_name": "Python 3",
   "language": "python",
   "name": "python3"
  },
  "language_info": {
   "codemirror_mode": {
    "name": "ipython",
    "version": 3
   },
   "file_extension": ".py",
   "mimetype": "text/x-python",
   "name": "python",
   "nbconvert_exporter": "python",
   "pygments_lexer": "ipython3",
   "version": "3.6.4"
  }
 },
 "nbformat": 4,
 "nbformat_minor": 2
}
